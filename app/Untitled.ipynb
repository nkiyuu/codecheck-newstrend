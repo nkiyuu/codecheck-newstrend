{
 "cells": [
  {
   "cell_type": "code",
   "execution_count": 123,
   "metadata": {
    "collapsed": false
   },
   "outputs": [],
   "source": [
    "import math\n",
    "import urllib.request\n",
    "import datetime\n",
    "import xml.etree.ElementTree as ET\n",
    "import chardet\n",
    "from goolabs import GoolabsAPI\n",
    "\n",
    "def get_coefficients(list1, list2):\n",
    "    \"\"\"\n",
    "    ２つのリストのピアソンの積率相関係数を求める\n",
    "    \"\"\"\n",
    "    average_list1 = sum(list1)/len(list1)\n",
    "    average_list2 = sum(list2)/len(list2)\n",
    "    covariance = 0\n",
    "    for i in range(len(list1)):\n",
    "        covariance += (list1[i] - average_list1) * (list2[i] - average_list2)\n",
    "    coefficients = covariance / get_standard_deviation(list1)\n",
    "    coefficients /= get_standard_deviation(list2)\n",
    "    coefficients = round(coefficients, 3)\n",
    "    if coefficients == 1.0:\n",
    "        return 1\n",
    "    return coefficients\n",
    "    \n",
    "def get_standard_deviation(data_list):\n",
    "    \"\"\"\n",
    "    データリストの標準偏差を求める\n",
    "    \"\"\"\n",
    "    standard_deviation = 0\n",
    "    average_data_list = sum(data_list) / len(data_list)\n",
    "    for i in data_list:\n",
    "        standard_deviation += math.pow((i - average_data_list), 2)\n",
    "    standard_deviation = math.sqrt(standard_deviation)\n",
    "    return standard_deviation\n",
    "\n",
    "def get_term_numFound(keyword, start_day, end_day):\n",
    "    \"\"\"\n",
    "    指定期間のあるキーワードのnumFoundの値を持ってくる\n",
    "    \"\"\"\n",
    "    _quote = urllib.parse.quote_plus(keyword)\n",
    "    ACCESS_KEY = \"869388c0968ae503614699f99e09d960f9ad3e12\"\n",
    "    url = \"http://54.92.123.84/search?q=Body:\" + _quote + \"%20AND%20ReleaseDate:[\" + str(start_day.isoformat().split(\"T\")[0]) + \"%20TO%20\" + str(end_day.isoformat().split(\"T\")[0]) + \"]&ackey=\" + ACCESS_KEY\n",
    "    response = urllib.request.urlopen(url)\n",
    "    tree = ET.parse(response)\n",
    "    root = tree.getroot()\n",
    "    return int(root.find(\".//result\").attrib['numFound'])\n",
    "\n",
    "def get_posChecker(keyword_list):\n",
    "    app_id = \"72557413b523d38db2d1de26f8095928d43d6d0882707ed41249f9edb643db45\"\n",
    "    api = GoolabsAPI(app_id)\n",
    "    check_list = []\n",
    "    for keyword in keyword_list:\n",
    "        check_list.append(str(api.morph(sentence=keyword)[\"word_list\"][0][0][1]))\n",
    "    if len(list(set(check_list))):\n",
    "        return True\n",
    "    else:\n",
    "        return False"
   ]
  },
  {
   "cell_type": "code",
   "execution_count": 124,
   "metadata": {
    "collapsed": false
   },
   "outputs": [
    {
     "name": "stdout",
     "output_type": "stream",
     "text": [
      "{'posChecker': True, 'coefficients': [[1, -0.117], [-0.117, 1]]}\n"
     ]
    }
   ],
   "source": [
    "start_date = datetime.datetime.strptime('2016-01-01' , '%Y-%m-%d')\n",
    "end_date = datetime.datetime.strptime('2016-11-01' , '%Y-%m-%d')\n",
    "term_start_date = start_date\n",
    "term_end_date = start_date + datetime.timedelta(days=6)\n",
    "keyword1 = \"メジャー・リーグ\"\n",
    "keyword2 = \"マイナー・リーグ\"\n",
    "keywords = [keyword1,  keyword2]\n",
    "keyword_numFound_dict = {}\n",
    "for keyword in keywords:\n",
    "    keyword_numFound_dict[keyword] = []\n",
    "while term_end_date < end_date:\n",
    "    for keyword in keywords:    \n",
    "        keyword_numFound_dict[keyword].append(get_term_numFound(keyword, term_start_date, term_end_date))\n",
    "    term_start_date += datetime.timedelta(days=7)\n",
    "    term_end_date += datetime.timedelta(days=7)\n",
    "\n",
    "coefficients = []\n",
    "for keyword1 in keywords:\n",
    "    row = []\n",
    "    for keyword2 in keywords:\n",
    "        row.append(get_coefficients(keyword_numFound_dict[keyword1], keyword_numFound_dict[keyword2]))\n",
    "    coefficients.append(row)\n",
    "answer = {\"coefficients\":coefficients, \"posChecker\": get_posChecker(keywords)}\n",
    "print(answer)\n"
   ]
  },
  {
   "cell_type": "code",
   "execution_count": 87,
   "metadata": {
    "collapsed": false
   },
   "outputs": [
    {
     "name": "stdout",
     "output_type": "stream",
     "text": [
      "{'word_list': [[['メジャーリーグ', '名詞', 'メジャーリーグ']]], 'request_id': 'labs.goo.ne.jp\\t1485868001\\t0'}\n"
     ]
    }
   ],
   "source": [
    "\n",
    "#from prettyprint import pp\n",
    "\n",
    "app_id = \"72557413b523d38db2d1de26f8095928d43d6d0882707ed41249f9edb643db45\"\n",
    "api = GoolabsAPI(app_id)\n",
    "\n",
    "response = api.morph(sentence=u\"メジャーリーグ\")\n",
    "print(response)\n"
   ]
  }
 ],
 "metadata": {
  "kernelspec": {
   "display_name": "Python 3",
   "language": "python",
   "name": "python3"
  },
  "language_info": {
   "codemirror_mode": {
    "name": "ipython",
    "version": 3
   },
   "file_extension": ".py",
   "mimetype": "text/x-python",
   "name": "python",
   "nbconvert_exporter": "python",
   "pygments_lexer": "ipython3",
   "version": "3.5.2"
  }
 },
 "nbformat": 4,
 "nbformat_minor": 2
}
